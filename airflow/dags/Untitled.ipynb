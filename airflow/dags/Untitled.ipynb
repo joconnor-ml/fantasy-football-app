{
 "cells": [
  {
   "cell_type": "code",
   "execution_count": 44,
   "metadata": {
    "collapsed": false
   },
   "outputs": [],
   "source": [
    "import numpy as np\n",
    "import pandas as pd\n",
    "from sklearn.linear_model import LinearRegression, Lasso, Ridge, LassoCV, RidgeCV\n",
    "from sklearn.preprocessing import Imputer, MinMaxScaler, PolynomialFeatures\n",
    "from sklearn.model_selection import cross_val_score, cross_val_predict\n",
    "from sklearn.metrics import mean_squared_error\n",
    "from sklearn.pipeline import make_pipeline\n",
    "from xgboost import XGBRegressor\n",
    "\n",
    "import logging\n",
    "\n",
    "details = pd.read_csv(\"player_details.csv\", index_col=0, nrows=650)\n",
    "\n",
    "test_week = 35\n",
    "panel = pd.read_pickle(\"data.pkl\").swapaxes(0,2)\n",
    "# pick a week to test on:                                                                                                                                       \n",
    "test = panel.loc[:, test_week, :]\n",
    "ytest = test[\"target\"]\n",
    "logging.info(\"\\n{}\".format(test.head()))\n",
    "\n",
    "train = panel.loc[:, 10:test_week, :].to_frame()  # flatten\n",
    "train = train[train[\"target_minutes\"]>120]\n",
    "ytrain = train[\"target\"]\n",
    "\n"
   ]
  },
  {
   "cell_type": "code",
   "execution_count": 51,
   "metadata": {
    "collapsed": false
   },
   "outputs": [
    {
     "data": {
      "text/plain": [
       "(array([  1.00000000e+00,   9.00000000e+00,   4.10000000e+01,\n",
       "          1.25000000e+02,   8.85000000e+02,   1.40000000e+03,\n",
       "          1.13100000e+03,   7.46000000e+02,   1.89000000e+02,\n",
       "          1.70000000e+01]),\n",
       " array([ 0.        ,  0.36888795,  0.73777589,  1.10666384,  1.47555178,\n",
       "         1.84443973,  2.21332767,  2.58221562,  2.95110356,  3.31999151,\n",
       "         3.68887945]),\n",
       " <a list of 10 Patch objects>)"
      ]
     },
     "execution_count": 51,
     "metadata": {},
     "output_type": "execute_result"
    },
    {
     "data": {
      "image/png": "[encoded data removed]",
      "text/plain": [
       "<matplotlib.figure.Figure at 0x7f1aa12fef28>"
      ]
     },
     "metadata": {},
     "output_type": "display_data"
    }
   ],
   "source": [
    "import matplotlib.pyplot as plt\n",
    "%matplotlib inline\n",
    "plt.hist(np.log(ytrain+3))"
   ]
  },
  {
   "cell_type": "code",
   "execution_count": 31,
   "metadata": {
    "collapsed": false
   },
   "outputs": [
    {
     "data": {
      "text/plain": [
       "((16415, 77), (16900,))"
      ]
     },
     "execution_count": 31,
     "metadata": {},
     "output_type": "execute_result"
    }
   ],
   "source": [
    "train.shape, future.shape"
   ]
  },
  {
   "cell_type": "code",
   "execution_count": null,
   "metadata": {
    "collapsed": true
   },
   "outputs": [],
   "source": []
  }
 ],
 "metadata": {
  "kernelspec": {
   "display_name": "Python 3",
   "language": "python",
   "name": "python3"
  },
  "language_info": {
   "codemirror_mode": {
    "name": "ipython",
    "version": 3
   },
   "file_extension": ".py",
   "mimetype": "text/x-python",
   "name": "python",
   "nbconvert_exporter": "python",
   "pygments_lexer": "ipython3",
   "version": "3.5.2"
  }
 },
 "nbformat": 4,
 "nbformat_minor": 2
}
